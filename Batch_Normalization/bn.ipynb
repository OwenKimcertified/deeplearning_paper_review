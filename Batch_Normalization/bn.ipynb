{
 "cells": [
  {
   "cell_type": "markdown",
   "metadata": {},
   "source": [
    "### `batch normalization`\n",
    "\n",
    "### reference : Sergey Ioffe, Christian Szegedy\n",
    "\n",
    "### Batch Normalization: Accelerating Deep Network Training by Reducing Internal Covariate Shift"
   ]
  },
  {
   "cell_type": "markdown",
   "metadata": {},
   "source": [
    "<img src = 'https://drive.google.com/uc?id=1jtF9P-xaX0UdAdpBKxbrdEtrnraJ9H1T' width = 1500, height = 1000>"
   ]
  }
 ],
 "metadata": {
  "language_info": {
   "name": "python"
  },
  "orig_nbformat": 4
 },
 "nbformat": 4,
 "nbformat_minor": 2
}
